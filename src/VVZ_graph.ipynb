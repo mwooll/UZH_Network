{
 "cells": [
  {
   "cell_type": "code",
   "execution_count": 1,
   "id": "9ec0fa56",
   "metadata": {},
   "outputs": [],
   "source": [
    "import matplotlib.pyplot as plt\n",
    "import networkx as nx"
   ]
  },
  {
   "cell_type": "code",
   "execution_count": 2,
   "id": "4caae3f8-1aa3-4831-9b76-958433447f8c",
   "metadata": {},
   "outputs": [],
   "source": [
    "G = nx.read_gml(\"../data/VVZ_network.gml\")"
   ]
  },
  {
   "cell_type": "code",
   "execution_count": 3,
   "id": "de2a03e4-8798-4e09-b896-475dc87cbc21",
   "metadata": {},
   "outputs": [
    {
     "name": "stdout",
     "output_type": "stream",
     "text": [
      "The network has 27569 nodes and 99249 edges.\n"
     ]
    }
   ],
   "source": [
    "print(f\"The network has {len(G.nodes())} nodes and {len(G.edges())} edges.\")"
   ]
  },
  {
   "cell_type": "code",
   "execution_count": 4,
   "id": "f7cf5589-940e-488d-a27c-36e5b73a8eef",
   "metadata": {},
   "outputs": [
    {
     "data": {
      "text/plain": [
       "3.6247733043162857"
      ]
     },
     "execution_count": 4,
     "metadata": {},
     "output_type": "execute_result"
    }
   ],
   "source": [
    "99935/27570"
   ]
  },
  {
   "cell_type": "code",
   "execution_count": 5,
   "id": "059392b0-4d48-43de-9cc0-3cf47adce485",
   "metadata": {},
   "outputs": [],
   "source": [
    "components = list(sorted(nx.connected_components(G), key=len, reverse=True))\n",
    "sizes_of_components = [len(comp) for comp in components]"
   ]
  },
  {
   "cell_type": "code",
   "execution_count": 6,
   "id": "23bc63c3-1dc0-4e48-9cdf-fc0c356a4e24",
   "metadata": {},
   "outputs": [],
   "source": [
    "hist = {}\n",
    "for size in sizes_of_components:\n",
    "    if size in hist:\n",
    "        hist[size] += 1\n",
    "    else:\n",
    "        hist[size] = 1"
   ]
  },
  {
   "cell_type": "code",
   "execution_count": 13,
   "id": "5771d746-005f-4ba1-844f-f13b23f32e4c",
   "metadata": {},
   "outputs": [
    {
     "name": "stdout",
     "output_type": "stream",
     "text": [
      "100\n"
     ]
    },
    {
     "data": {
      "text/plain": [
       "{27342: 1, 6: 2, 5: 3, 4: 8, 3: 31, 2: 20, 1: 35}"
      ]
     },
     "execution_count": 13,
     "metadata": {},
     "output_type": "execute_result"
    }
   ],
   "source": [
    "print(len(sizes_of_components)); hist"
   ]
  },
  {
   "cell_type": "code",
   "execution_count": 27,
   "id": "5956a86a-72b8-4253-aeac-3b647302bf69",
   "metadata": {},
   "outputs": [
    {
     "name": "stdout",
     "output_type": "stream",
     "text": [
      "{'Diagnostic Cytology'}\n",
      "{'Kolloquium Fundamental research in clinical Biochemistry (for doctoral students, teaching and research assistants)'}\n",
      "{'ESS 411 Sedmentology I: Physical processes and sedimentary systems'}\n",
      "{'ESS 451 Numerical modelling of ore forming hydrothermal processes'}\n",
      "{'ESS 461 Thermodynamics applied to earth materials'}\n",
      "{'ESS 425 Topics in geochemistry'}\n",
      "{'ESS 429 Advanced geochronology'}\n",
      "{'Research Colloquium 1.Year PhD Students Fall Semester'}\n",
      "{'Research Colloquium 2.Year PhD Students Fall Semester'}\n",
      "{'Research Colloquium 3.Year PhD Students Fall Semester'}\n",
      "{'Dissertation'}\n",
      "{'Thesis Defence'}\n",
      "{'Clinical Courses V: Anesthesiology and Resuscitation, Surgery, Dermatology, Internal Medicine, Pediatrics, Pathology, Radio-Oncology/Oncology, Social and Preventive Medicine'}\n",
      "{'Human Biology I (1st single Examination)'}\n",
      "{'Expert opinion supervisor'}\n",
      "{'Expert opinion co-referee'}\n",
      "{'Defense PhD'}\n",
      "{'Kolloqium Praktische Philosophie'}\n",
      "{'Übungen zu Kristalle und Mineralien'}\n",
      "{'Diagnostische Zytologie'}\n",
      "{'Geflügel'}\n",
      "{'Zellpathologie'}\n",
      "{'Sedimentology I: Physical processes and sedimentary systems'}\n",
      "{'Thermodynamics applied to earth materials'}\n",
      "{'Kristalle und Mineralien'}\n",
      "{'Numerical modelling of Ore Forming Hydrothermal Processes'}\n",
      "{'Advanced geochronology'}\n",
      "{'Practical Course in Clinical Anatomy and Clinical Examination incl. Sonography and Workshadowing Physiotherapy'}\n",
      "{'Perioperative Probleme: Vorstellung und Diskussion ausgewählter Fälle (für Studierende des 6. Studienjahrs der Humanmedizin)'}\n",
      "{'Clinical Courses VI: Surgery, Dermatology, Obstetrics and Gynecology, Internal Medicine, Ophthalmology, ORL, Pediatrics'}\n",
      "{'Übungslektionen im Zusatzfach «Wirtschaft und Recht» (15 Lektionen, davon 8'}\n",
      "{'Clinical Courses V: Anesthesiology and Resuscitation, Surgery, Dermatology, Internal Medicine, Pediatrics, Pathology, Radiology/Oncology, Social and Preventive Medicine'}\n",
      "{'Schriftliche Arbeit zum Proseminar \"Die Geschichte der Messe: Vom Mittelalter bis zur'}\n",
      "{'Lectures on key subject areas, longitudinal topics and Student Repetition Week in the Spring Semester of the 3rd year M Med'}\n",
      "{'Clinical Courses VI: Surgery, Dermatology, Obstetrics and Gynecology, Internal Medicine, Ophthalmology, ORL, Pediatrics, Injection/Infusion Course, Suturing and Wound Care and Course in Emergency Cases'}\n"
     ]
    }
   ],
   "source": [
    "# nodes which make up a component on their own\n",
    "for comp in components[-35:]:\n",
    "    print(comp)"
   ]
  },
  {
   "cell_type": "code",
   "execution_count": 34,
   "id": "b3a2bc78-6edd-4496-9199-03c5aa256451",
   "metadata": {},
   "outputs": [
    {
     "data": {
      "text/plain": [
       "[('Single Major 180 Human Medicine', 485),\n",
       " ('Faculty of Science', 459),\n",
       " ('Single Major 120 Linguistics', 429),\n",
       " ('Single Major 180 Theology', 395),\n",
       " ('Single Major 120 Theology', 391),\n",
       " ('Major 90 Theology', 388),\n",
       " ('Major 120 Theology', 384),\n",
       " ('Single Major 120 Literary Studies', 376),\n",
       " (\"Bachelor's Thesis\", 365),\n",
       " ('Single Major 180 Biology', 342)]"
      ]
     },
     "execution_count": 34,
     "metadata": {},
     "output_type": "execute_result"
    }
   ],
   "source": [
    "sorted(G.degree, key=lambda x: x[1], reverse=True)[:10]"
   ]
  },
  {
   "cell_type": "code",
   "execution_count": 9,
   "id": "e5fe73d2-a2f7-4bef-b6c1-cfc30fdca486",
   "metadata": {},
   "outputs": [],
   "source": [
    "degrees = [deg for name, deg in G.degree()]"
   ]
  },
  {
   "cell_type": "code",
   "execution_count": 33,
   "id": "cfe31544-b837-42e6-b432-d956ed32748f",
   "metadata": {},
   "outputs": [
    {
     "data": {
      "image/png": "[encoded data removed]",
      "text/plain": [
       "<Figure size 640x480 with 1 Axes>"
      ]
     },
     "metadata": {},
     "output_type": "display_data"
    }
   ],
   "source": [
    "plt.yscale(\"log\")\n",
    "plt.hist(degrees, bins=100, density=True)\n",
    "plt.xlabel(\"degree $k$\")\n",
    "plt.ylabel(\"$p(k)$\")\n",
    "plt.title(\"Degree Distribution\")\n",
    "plt.show()"
   ]
  }
 ],
 "metadata": {
  "kernelspec": {
   "display_name": "Python 3 (ipykernel)",
   "language": "python",
   "name": "python3"
  },
  "language_info": {
   "codemirror_mode": {
    "name": "ipython",
    "version": 3
   },
   "file_extension": ".py",
   "mimetype": "text/x-python",
   "name": "python",
   "nbconvert_exporter": "python",
   "pygments_lexer": "ipython3",
   "version": "3.12.8"
  }
 },
 "nbformat": 4,
 "nbformat_minor": 5
}
